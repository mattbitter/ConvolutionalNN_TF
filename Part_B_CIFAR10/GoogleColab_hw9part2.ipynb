{
  "nbformat": 4,
  "nbformat_minor": 0,
  "metadata": {
    "colab": {
      "name": "HW9Part2.ipynb",
      "version": "0.3.2",
      "views": {},
      "default_view": {},
      "provenance": [],
      "collapsed_sections": []
    },
    "kernelspec": {
      "name": "python3",
      "display_name": "Python 3"
    },
    "accelerator": "GPU"
  },
  "cells": [
    {
      "metadata": {
        "id": "nFWlj8gC6qmo",
        "colab_type": "code",
        "colab": {
          "autoexec": {
            "startup": false,
            "wait_interval": 0
          }
        }
      },
      "cell_type": "code",
      "source": [
        "#Matthew Bitter\n",
        "#MCS-DS - HW9\n",
        "#May 7th, 2018\n",
        "#Google Colab code to run CIFAR10 part of the assignment using Tesla GPU"
      ],
      "execution_count": 0,
      "outputs": []
    },
    {
      "metadata": {
        "id": "VOs77cAaMP1l",
        "colab_type": "code",
        "colab": {
          "autoexec": {
            "startup": false,
            "wait_interval": 0
          },
          "base_uri": "https://localhost:8080/",
          "height": 105
        },
        "outputId": "50a5f7c7-be06-469b-c598-8157745ebdcb",
        "executionInfo": {
          "status": "ok",
          "timestamp": 1525699789445,
          "user_tz": 240,
          "elapsed": 11557,
          "user": {
            "displayName": "Matthew Bitter",
            "photoUrl": "//lh5.googleusercontent.com/-pHznAJG5AMw/AAAAAAAAAAI/AAAAAAAAF-I/fAx6BjxWO-U/s50-c-k-no/photo.jpg",
            "userId": "114546839242135822590"
          }
        }
      },
      "cell_type": "code",
      "source": [
        "#This is to link my Google Drive with Google Colab\n",
        "\n",
        "# Install a Drive FUSE wrapper.\n",
        "# https://github.com/astrada/google-drive-ocamlfuse\n",
        "!apt-get install -y -qq software-properties-common python-software-properties module-init-tools\n",
        "!add-apt-repository -y ppa:alessandro-strada/ppa 2>&1 > /dev/null\n",
        "!apt-get update -qq 2>&1 > /dev/null\n",
        "!apt-get -y install -qq google-drive-ocamlfuse fuse\n",
        "# Generate auth tokens for Colab\n",
        "from google.colab import auth\n",
        "auth.authenticate_user()\n",
        "# Generate creds for the Drive FUSE library.\n",
        "from oauth2client.client import GoogleCredentials\n",
        "creds = GoogleCredentials.get_application_default()\n",
        "import getpass\n",
        "!google-drive-ocamlfuse -headless -id={creds.client_id} -secret={creds.client_secret} < /dev/null 2>&1 | grep URL\n",
        "vcode = getpass.getpass()\n",
        "!echo {vcode} | google-drive-ocamlfuse -headless -id={creds.client_id} -secret={creds.client_secret}"
      ],
      "execution_count": 1,
      "outputs": [
        {
          "output_type": "stream",
          "text": [
            "Please, open the following URL in a web browser: https://accounts.google.com/o/oauth2/auth?client_id=32555940559.apps.googleusercontent.com&redirect_uri=urn%3Aietf%3Awg%3Aoauth%3A2.0%3Aoob&scope=https%3A%2F%2Fwww.googleapis.com%2Fauth%2Fdrive&response_type=code&access_type=offline&approval_prompt=force\r\n",
            "··········\n",
            "Please, open the following URL in a web browser: https://accounts.google.com/o/oauth2/auth?client_id=32555940559.apps.googleusercontent.com&redirect_uri=urn%3Aietf%3Awg%3Aoauth%3A2.0%3Aoob&scope=https%3A%2F%2Fwww.googleapis.com%2Fauth%2Fdrive&response_type=code&access_type=offline&approval_prompt=force\n",
            "Please enter the verification code: Access token retrieved correctly.\n"
          ],
          "name": "stdout"
        }
      ]
    },
    {
      "metadata": {
        "id": "ETGZxjc7P8B7",
        "colab_type": "code",
        "colab": {
          "autoexec": {
            "startup": false,
            "wait_interval": 0
          }
        }
      },
      "cell_type": "code",
      "source": [
        "#assign google drive and p drive\n",
        "!mkdir -p drive\n",
        "!google-drive-ocamlfuse drive"
      ],
      "execution_count": 0,
      "outputs": []
    },
    {
      "metadata": {
        "id": "40Q-qTv1Qjh7",
        "colab_type": "code",
        "colab": {
          "autoexec": {
            "startup": false,
            "wait_interval": 0
          }
        }
      },
      "cell_type": "code",
      "source": [
        "#Set my default root directory in google colab to where I store my code on my google drive\n",
        "import sys\n",
        "import os\n",
        "\n",
        "sys.path.insert(0, 'drive/Masters/Courses/CS498/Assignments/HW9CF/cifar10')\n",
        "os.chdir(\"drive/Masters/Courses/CS498/Assignments/HW9CF/cifar10\")"
      ],
      "execution_count": 0,
      "outputs": []
    },
    {
      "metadata": {
        "id": "syAt-i41Tic3",
        "colab_type": "code",
        "colab": {
          "autoexec": {
            "startup": false,
            "wait_interval": 0
          },
          "base_uri": "https://localhost:8080/",
          "height": 340
        },
        "outputId": "a491d3af-f17f-4dda-bc8f-6c1fc9500656",
        "executionInfo": {
          "status": "ok",
          "timestamp": 1525458083895,
          "user_tz": 240,
          "elapsed": 29023,
          "user": {
            "displayName": "Matthew Bitter",
            "photoUrl": "//lh5.googleusercontent.com/-pHznAJG5AMw/AAAAAAAAAAI/AAAAAAAAF-I/fAx6BjxWO-U/s50-c-k-no/photo.jpg",
            "userId": "114546839242135822590"
          }
        }
      },
      "cell_type": "code",
      "source": [
        "#The tutorial code did not work in TF 1.8 so I downgraded to 1.4\n",
        "!pip install tensorflow-gpu==1.4.1"
      ],
      "execution_count": 0,
      "outputs": [
        {
          "output_type": "stream",
          "text": [
            "Collecting tensorflow-gpu==1.4.1\n",
            "\u001b[?25l  Downloading https://files.pythonhosted.org/packages/e3/d3/4a356db5b6a2c9dcb30011280bc065cf51de1e4ab5a5fee44eb460a98449/tensorflow_gpu-1.4.1-cp36-cp36m-manylinux1_x86_64.whl (170.3MB)\n",
            "\u001b[K    100% |████████████████████████████████| 170.3MB 173kB/s \n",
            "\u001b[?25hCollecting enum34>=1.1.6 (from tensorflow-gpu==1.4.1)\n",
            "  Downloading https://files.pythonhosted.org/packages/af/42/cb9355df32c69b553e72a2e28daee25d1611d2c0d9c272aa1d34204205b2/enum34-1.1.6-py3-none-any.whl\n",
            "Requirement already satisfied: protobuf>=3.3.0 in /usr/local/lib/python3.6/dist-packages (from tensorflow-gpu==1.4.1) (3.5.2.post1)\n",
            "Requirement already satisfied: numpy>=1.12.1 in /usr/local/lib/python3.6/dist-packages (from tensorflow-gpu==1.4.1) (1.14.3)\n",
            "Collecting tensorflow-tensorboard<0.5.0,>=0.4.0rc1 (from tensorflow-gpu==1.4.1)\n",
            "\u001b[?25l  Downloading https://files.pythonhosted.org/packages/e9/9f/5845c18f9df5e7ea638ecf3a272238f0e7671e454faa396b5188c6e6fc0a/tensorflow_tensorboard-0.4.0-py3-none-any.whl (1.7MB)\n",
            "\u001b[K    100% |████████████████████████████████| 1.7MB 13.8MB/s \n",
            "\u001b[?25hRequirement already satisfied: wheel>=0.26 in /usr/local/lib/python3.6/dist-packages (from tensorflow-gpu==1.4.1) (0.31.0)\n",
            "Requirement already satisfied: six>=1.10.0 in /usr/local/lib/python3.6/dist-packages (from tensorflow-gpu==1.4.1) (1.11.0)\n",
            "Requirement already satisfied: setuptools in /usr/local/lib/python3.6/dist-packages (from protobuf>=3.3.0->tensorflow-gpu==1.4.1) (39.1.0)\n",
            "Requirement already satisfied: html5lib==0.9999999 in /usr/local/lib/python3.6/dist-packages (from tensorflow-tensorboard<0.5.0,>=0.4.0rc1->tensorflow-gpu==1.4.1) (0.9999999)\n",
            "Requirement already satisfied: bleach==1.5.0 in /usr/local/lib/python3.6/dist-packages (from tensorflow-tensorboard<0.5.0,>=0.4.0rc1->tensorflow-gpu==1.4.1) (1.5.0)\n",
            "Requirement already satisfied: markdown>=2.6.8 in /usr/local/lib/python3.6/dist-packages (from tensorflow-tensorboard<0.5.0,>=0.4.0rc1->tensorflow-gpu==1.4.1) (2.6.11)\n",
            "Requirement already satisfied: werkzeug>=0.11.10 in /usr/local/lib/python3.6/dist-packages (from tensorflow-tensorboard<0.5.0,>=0.4.0rc1->tensorflow-gpu==1.4.1) (0.14.1)\n",
            "Installing collected packages: enum34, tensorflow-tensorboard, tensorflow-gpu\n",
            "Successfully installed enum34-1.1.6 tensorflow-gpu-1.4.1 tensorflow-tensorboard-0.4.0\n"
          ],
          "name": "stdout"
        }
      ]
    },
    {
      "metadata": {
        "id": "5IA4bgNTYq6c",
        "colab_type": "code",
        "colab": {
          "autoexec": {
            "startup": false,
            "wait_interval": 0
          },
          "base_uri": "https://localhost:8080/",
          "height": 3267
        },
        "outputId": "5fb29ff3-a6b4-4623-d6f6-73d46dfca2a8",
        "executionInfo": {
          "status": "ok",
          "timestamp": 1525704488050,
          "user_tz": 240,
          "elapsed": 2115840,
          "user": {
            "displayName": "Matthew Bitter",
            "photoUrl": "//lh5.googleusercontent.com/-pHznAJG5AMw/AAAAAAAAAAI/AAAAAAAAF-I/fAx6BjxWO-U/s50-c-k-no/photo.jpg",
            "userId": "114546839242135822590"
          }
        }
      },
      "cell_type": "code",
      "source": [
        "#Running the actual code using GPU\n",
        "!python cifar10_train.py"
      ],
      "execution_count": 5,
      "outputs": [
        {
          "output_type": "stream",
          "text": [
            "/usr/local/lib/python3.6/dist-packages/h5py/__init__.py:36: FutureWarning: Conversion of the second argument of issubdtype from `float` to `np.floating` is deprecated. In future, it will be treated as `np.float64 == np.dtype(float).type`.\r\n",
            "  from ._conv import register_converters as _register_converters\n",
            "Filling queue with 20000 CIFAR images before starting to train. This will take a few minutes.\n",
            "2018-05-07 14:13:12.245309: I tensorflow/stream_executor/cuda/cuda_gpu_executor.cc:898] successful NUMA node read from SysFS had negative value (-1), but there must be at least one NUMA node, so returning NUMA node zero\n",
            "2018-05-07 14:13:12.245824: I tensorflow/core/common_runtime/gpu/gpu_device.cc:1344] Found device 0 with properties: \n",
            "name: Tesla K80 major: 3 minor: 7 memoryClockRate(GHz): 0.8235\n",
            "pciBusID: 0000:00:04.0\n",
            "totalMemory: 11.17GiB freeMemory: 11.10GiB\n",
            "2018-05-07 14:13:12.245872: I tensorflow/core/common_runtime/gpu/gpu_device.cc:1423] Adding visible gpu devices: 0\n",
            "2018-05-07 14:13:12.604664: I tensorflow/core/common_runtime/gpu/gpu_device.cc:911] Device interconnect StreamExecutor with strength 1 edge matrix:\n",
            "2018-05-07 14:13:12.604720: I tensorflow/core/common_runtime/gpu/gpu_device.cc:917]      0 \n",
            "2018-05-07 14:13:12.604739: I tensorflow/core/common_runtime/gpu/gpu_device.cc:930] 0:   N \n",
            "2018-05-07 14:13:12.605033: I tensorflow/core/common_runtime/gpu/gpu_device.cc:1041] Created TensorFlow device (/job:localhost/replica:0/task:0/device:GPU:0 with 10765 MB memory) -> physical GPU (device: 0, name: Tesla K80, pci bus id: 0000:00:04.0, compute capability: 3.7)\n",
            "WARNING:tensorflow:NotFoundError: drive/tmp/cifar10_train/checkpoint; No such file or directory\n",
            "WARNING:tensorflow:drive/tmp/cifar10_train/checkpoint: Checkpoint ignored\n",
            "2018-05-07 14:14:13.519618: I tensorflow/core/common_runtime/gpu/gpu_device.cc:1423] Adding visible gpu devices: 0\n",
            "2018-05-07 14:14:13.519742: I tensorflow/core/common_runtime/gpu/gpu_device.cc:911] Device interconnect StreamExecutor with strength 1 edge matrix:\n",
            "2018-05-07 14:14:13.519768: I tensorflow/core/common_runtime/gpu/gpu_device.cc:917]      0 \n",
            "2018-05-07 14:14:13.519785: I tensorflow/core/common_runtime/gpu/gpu_device.cc:930] 0:   N \n",
            "2018-05-07 14:14:13.520006: I tensorflow/core/common_runtime/gpu/gpu_device.cc:1041] Created TensorFlow device (/job:localhost/replica:0/task:0/device:GPU:0 with 10765 MB memory) -> physical GPU (device: 0, name: Tesla K80, pci bus id: 0000:00:04.0, compute capability: 3.7)\n",
            "2018-05-07 14:14:24.243915: precision @ 1 = 0.101\n",
            "2018-05-07 14:14:34.835919: step 0, loss = 4.68 (213.9 examples/sec; 0.599 sec/batch)\n",
            "2018-05-07 14:15:25.430152: I tensorflow/core/common_runtime/gpu/gpu_device.cc:1423] Adding visible gpu devices: 0\n",
            "2018-05-07 14:15:25.430294: I tensorflow/core/common_runtime/gpu/gpu_device.cc:911] Device interconnect StreamExecutor with strength 1 edge matrix:\n",
            "2018-05-07 14:15:25.430320: I tensorflow/core/common_runtime/gpu/gpu_device.cc:917]      0 \n",
            "2018-05-07 14:15:25.430336: I tensorflow/core/common_runtime/gpu/gpu_device.cc:930] 0:   N \n",
            "2018-05-07 14:15:25.430593: I tensorflow/core/common_runtime/gpu/gpu_device.cc:1041] Created TensorFlow device (/job:localhost/replica:0/task:0/device:GPU:0 with 10765 MB memory) -> physical GPU (device: 0, name: Tesla K80, pci bus id: 0000:00:04.0, compute capability: 3.7)\n",
            "2018-05-07 14:15:31.517476: precision @ 1 = 0.098\n",
            "2018-05-07 14:15:42.061224: step 100, loss = 3.99 (178.1 examples/sec; 0.719 sec/batch)\n",
            "2018-05-07 14:16:27.713306: I tensorflow/core/common_runtime/gpu/gpu_device.cc:1423] Adding visible gpu devices: 0\n",
            "2018-05-07 14:16:27.713435: I tensorflow/core/common_runtime/gpu/gpu_device.cc:911] Device interconnect StreamExecutor with strength 1 edge matrix:\n",
            "2018-05-07 14:16:27.713474: I tensorflow/core/common_runtime/gpu/gpu_device.cc:917]      0 \n",
            "2018-05-07 14:16:27.713500: I tensorflow/core/common_runtime/gpu/gpu_device.cc:930] 0:   N \n",
            "2018-05-07 14:16:27.713768: I tensorflow/core/common_runtime/gpu/gpu_device.cc:1041] Created TensorFlow device (/job:localhost/replica:0/task:0/device:GPU:0 with 10765 MB memory) -> physical GPU (device: 0, name: Tesla K80, pci bus id: 0000:00:04.0, compute capability: 3.7)\n",
            "2018-05-07 14:16:33.841169: precision @ 1 = 0.310\n",
            "2018-05-07 14:16:44.358572: step 200, loss = 3.40 (205.3 examples/sec; 0.624 sec/batch)\n",
            "2018-05-07 14:17:33.273840: I tensorflow/core/common_runtime/gpu/gpu_device.cc:1423] Adding visible gpu devices: 0\n",
            "2018-05-07 14:17:33.273958: I tensorflow/core/common_runtime/gpu/gpu_device.cc:911] Device interconnect StreamExecutor with strength 1 edge matrix:\n",
            "2018-05-07 14:17:33.273983: I tensorflow/core/common_runtime/gpu/gpu_device.cc:917]      0 \n",
            "2018-05-07 14:17:33.274000: I tensorflow/core/common_runtime/gpu/gpu_device.cc:930] 0:   N \n",
            "2018-05-07 14:17:33.274147: I tensorflow/core/common_runtime/gpu/gpu_device.cc:1041] Created TensorFlow device (/job:localhost/replica:0/task:0/device:GPU:0 with 10765 MB memory) -> physical GPU (device: 0, name: Tesla K80, pci bus id: 0000:00:04.0, compute capability: 3.7)\n",
            "2018-05-07 14:17:43.335890: precision @ 1 = 0.402\n",
            "2018-05-07 14:17:54.465819: step 300, loss = 3.24 (195.8 examples/sec; 0.654 sec/batch)\n",
            "2018-05-07 14:18:40.428182: I tensorflow/core/common_runtime/gpu/gpu_device.cc:1423] Adding visible gpu devices: 0\n",
            "2018-05-07 14:18:40.428307: I tensorflow/core/common_runtime/gpu/gpu_device.cc:911] Device interconnect StreamExecutor with strength 1 edge matrix:\n",
            "2018-05-07 14:18:40.428332: I tensorflow/core/common_runtime/gpu/gpu_device.cc:917]      0 \n",
            "2018-05-07 14:18:40.428348: I tensorflow/core/common_runtime/gpu/gpu_device.cc:930] 0:   N \n",
            "2018-05-07 14:18:40.428612: I tensorflow/core/common_runtime/gpu/gpu_device.cc:1041] Created TensorFlow device (/job:localhost/replica:0/task:0/device:GPU:0 with 10765 MB memory) -> physical GPU (device: 0, name: Tesla K80, pci bus id: 0000:00:04.0, compute capability: 3.7)\n",
            "2018-05-07 14:18:51.629493: precision @ 1 = 0.452\n",
            "2018-05-07 14:19:02.195281: step 400, loss = 3.13 (190.2 examples/sec; 0.673 sec/batch)\n",
            "2018-05-07 14:19:52.768188: I tensorflow/core/common_runtime/gpu/gpu_device.cc:1423] Adding visible gpu devices: 0\n",
            "2018-05-07 14:19:52.768313: I tensorflow/core/common_runtime/gpu/gpu_device.cc:911] Device interconnect StreamExecutor with strength 1 edge matrix:\n",
            "2018-05-07 14:19:52.768341: I tensorflow/core/common_runtime/gpu/gpu_device.cc:917]      0 \n",
            "2018-05-07 14:19:52.768365: I tensorflow/core/common_runtime/gpu/gpu_device.cc:930] 0:   N \n",
            "2018-05-07 14:19:52.768632: I tensorflow/core/common_runtime/gpu/gpu_device.cc:1041] Created TensorFlow device (/job:localhost/replica:0/task:0/device:GPU:0 with 10765 MB memory) -> physical GPU (device: 0, name: Tesla K80, pci bus id: 0000:00:04.0, compute capability: 3.7)\n",
            "2018-05-07 14:20:00.291024: precision @ 1 = 0.489\n",
            "2018-05-07 14:20:10.888199: step 500, loss = 2.93 (176.7 examples/sec; 0.724 sec/batch)\n",
            "2018-05-07 14:21:01.208566: I tensorflow/core/common_runtime/gpu/gpu_device.cc:1423] Adding visible gpu devices: 0\n",
            "2018-05-07 14:21:01.208681: I tensorflow/core/common_runtime/gpu/gpu_device.cc:911] Device interconnect StreamExecutor with strength 1 edge matrix:\n",
            "2018-05-07 14:21:01.208707: I tensorflow/core/common_runtime/gpu/gpu_device.cc:917]      0 \n",
            "2018-05-07 14:21:01.208723: I tensorflow/core/common_runtime/gpu/gpu_device.cc:930] 0:   N \n",
            "2018-05-07 14:21:01.208941: I tensorflow/core/common_runtime/gpu/gpu_device.cc:1041] Created TensorFlow device (/job:localhost/replica:0/task:0/device:GPU:0 with 10765 MB memory) -> physical GPU (device: 0, name: Tesla K80, pci bus id: 0000:00:04.0, compute capability: 3.7)\n"
          ],
          "name": "stdout"
        },
        {
          "output_type": "stream",
          "text": [
            "2018-05-07 14:21:07.851684: precision @ 1 = 0.511\n",
            "2018-05-07 14:21:18.482548: step 600, loss = 2.71 (187.0 examples/sec; 0.685 sec/batch)\n",
            "2018-05-07 14:22:07.255583: I tensorflow/core/common_runtime/gpu/gpu_device.cc:1423] Adding visible gpu devices: 0\n",
            "2018-05-07 14:22:07.255699: I tensorflow/core/common_runtime/gpu/gpu_device.cc:911] Device interconnect StreamExecutor with strength 1 edge matrix:\n",
            "2018-05-07 14:22:07.255724: I tensorflow/core/common_runtime/gpu/gpu_device.cc:917]      0 \n",
            "2018-05-07 14:22:07.255740: I tensorflow/core/common_runtime/gpu/gpu_device.cc:930] 0:   N \n",
            "2018-05-07 14:22:07.255958: I tensorflow/core/common_runtime/gpu/gpu_device.cc:1041] Created TensorFlow device (/job:localhost/replica:0/task:0/device:GPU:0 with 10765 MB memory) -> physical GPU (device: 0, name: Tesla K80, pci bus id: 0000:00:04.0, compute capability: 3.7)\n",
            "2018-05-07 14:22:13.515821: precision @ 1 = 0.535\n",
            "2018-05-07 14:22:24.073346: step 700, loss = 2.38 (193.7 examples/sec; 0.661 sec/batch)\n",
            "2018-05-07 14:23:11.575080: I tensorflow/core/common_runtime/gpu/gpu_device.cc:1423] Adding visible gpu devices: 0\n",
            "2018-05-07 14:23:11.575195: I tensorflow/core/common_runtime/gpu/gpu_device.cc:911] Device interconnect StreamExecutor with strength 1 edge matrix:\n",
            "2018-05-07 14:23:11.575220: I tensorflow/core/common_runtime/gpu/gpu_device.cc:917]      0 \n",
            "2018-05-07 14:23:11.575237: I tensorflow/core/common_runtime/gpu/gpu_device.cc:930] 0:   N \n",
            "2018-05-07 14:23:11.575459: I tensorflow/core/common_runtime/gpu/gpu_device.cc:1041] Created TensorFlow device (/job:localhost/replica:0/task:0/device:GPU:0 with 10765 MB memory) -> physical GPU (device: 0, name: Tesla K80, pci bus id: 0000:00:04.0, compute capability: 3.7)\n",
            "2018-05-07 14:23:17.402719: precision @ 1 = 0.557\n",
            "2018-05-07 14:23:27.968488: step 800, loss = 2.30 (198.8 examples/sec; 0.644 sec/batch)\n",
            "2018-05-07 14:25:00.774884: I tensorflow/core/common_runtime/gpu/gpu_device.cc:1423] Adding visible gpu devices: 0\n",
            "2018-05-07 14:25:00.775027: I tensorflow/core/common_runtime/gpu/gpu_device.cc:911] Device interconnect StreamExecutor with strength 1 edge matrix:\n",
            "2018-05-07 14:25:00.775051: I tensorflow/core/common_runtime/gpu/gpu_device.cc:917]      0 \n",
            "2018-05-07 14:25:00.775067: I tensorflow/core/common_runtime/gpu/gpu_device.cc:930] 0:   N \n",
            "2018-05-07 14:25:00.775329: I tensorflow/core/common_runtime/gpu/gpu_device.cc:1041] Created TensorFlow device (/job:localhost/replica:0/task:0/device:GPU:0 with 10765 MB memory) -> physical GPU (device: 0, name: Tesla K80, pci bus id: 0000:00:04.0, compute capability: 3.7)\n",
            "2018-05-07 14:25:06.609953: precision @ 1 = 0.589\n",
            "2018-05-07 14:25:17.140703: step 900, loss = 1.93 (117.2 examples/sec; 1.092 sec/batch)\n",
            "2018-05-07 14:26:52.462424: I tensorflow/core/common_runtime/gpu/gpu_device.cc:1423] Adding visible gpu devices: 0\n",
            "2018-05-07 14:26:52.462600: I tensorflow/core/common_runtime/gpu/gpu_device.cc:911] Device interconnect StreamExecutor with strength 1 edge matrix:\n",
            "2018-05-07 14:26:52.462628: I tensorflow/core/common_runtime/gpu/gpu_device.cc:917]      0 \n",
            "2018-05-07 14:26:52.462656: I tensorflow/core/common_runtime/gpu/gpu_device.cc:930] 0:   N \n",
            "2018-05-07 14:26:52.462888: I tensorflow/core/common_runtime/gpu/gpu_device.cc:1041] Created TensorFlow device (/job:localhost/replica:0/task:0/device:GPU:0 with 10765 MB memory) -> physical GPU (device: 0, name: Tesla K80, pci bus id: 0000:00:04.0, compute capability: 3.7)\n",
            "2018-05-07 14:27:03.559589: precision @ 1 = 0.594\n",
            "2018-05-07 14:27:14.201637: step 1000, loss = 2.02 (114.8 examples/sec; 1.115 sec/batch)\n",
            "2018-05-07 14:28:02.009665: I tensorflow/core/common_runtime/gpu/gpu_device.cc:1423] Adding visible gpu devices: 0\n",
            "2018-05-07 14:28:02.009797: I tensorflow/core/common_runtime/gpu/gpu_device.cc:911] Device interconnect StreamExecutor with strength 1 edge matrix:\n",
            "2018-05-07 14:28:02.009826: I tensorflow/core/common_runtime/gpu/gpu_device.cc:917]      0 \n",
            "2018-05-07 14:28:02.009851: I tensorflow/core/common_runtime/gpu/gpu_device.cc:930] 0:   N \n",
            "2018-05-07 14:28:02.010107: I tensorflow/core/common_runtime/gpu/gpu_device.cc:1041] Created TensorFlow device (/job:localhost/replica:0/task:0/device:GPU:0 with 10765 MB memory) -> physical GPU (device: 0, name: Tesla K80, pci bus id: 0000:00:04.0, compute capability: 3.7)\n",
            "2018-05-07 14:28:09.790762: precision @ 1 = 0.606\n",
            "2018-05-07 14:28:20.527052: step 1100, loss = 1.87 (185.8 examples/sec; 0.689 sec/batch)\n",
            "2018-05-07 14:29:08.047394: I tensorflow/core/common_runtime/gpu/gpu_device.cc:1423] Adding visible gpu devices: 0\n",
            "2018-05-07 14:29:08.047532: I tensorflow/core/common_runtime/gpu/gpu_device.cc:911] Device interconnect StreamExecutor with strength 1 edge matrix:\n",
            "2018-05-07 14:29:08.047572: I tensorflow/core/common_runtime/gpu/gpu_device.cc:917]      0 \n",
            "2018-05-07 14:29:08.047592: I tensorflow/core/common_runtime/gpu/gpu_device.cc:930] 0:   N \n",
            "2018-05-07 14:29:08.047826: I tensorflow/core/common_runtime/gpu/gpu_device.cc:1041] Created TensorFlow device (/job:localhost/replica:0/task:0/device:GPU:0 with 10765 MB memory) -> physical GPU (device: 0, name: Tesla K80, pci bus id: 0000:00:04.0, compute capability: 3.7)\n",
            "2018-05-07 14:29:14.097380: precision @ 1 = 0.622\n",
            "2018-05-07 14:29:24.846837: step 1200, loss = 1.96 (191.6 examples/sec; 0.668 sec/batch)\n",
            "2018-05-07 14:30:14.817778: I tensorflow/core/common_runtime/gpu/gpu_device.cc:1423] Adding visible gpu devices: 0\n",
            "2018-05-07 14:30:14.817894: I tensorflow/core/common_runtime/gpu/gpu_device.cc:911] Device interconnect StreamExecutor with strength 1 edge matrix:\n",
            "2018-05-07 14:30:14.817918: I tensorflow/core/common_runtime/gpu/gpu_device.cc:917]      0 \n",
            "2018-05-07 14:30:14.817934: I tensorflow/core/common_runtime/gpu/gpu_device.cc:930] 0:   N \n",
            "2018-05-07 14:30:14.818186: I tensorflow/core/common_runtime/gpu/gpu_device.cc:1041] Created TensorFlow device (/job:localhost/replica:0/task:0/device:GPU:0 with 10765 MB memory) -> physical GPU (device: 0, name: Tesla K80, pci bus id: 0000:00:04.0, compute capability: 3.7)\n",
            "2018-05-07 14:30:19.391675: precision @ 1 = 0.639\n",
            "2018-05-07 14:30:29.856549: step 1300, loss = 1.74 (191.6 examples/sec; 0.668 sec/batch)\n",
            "2018-05-07 14:31:21.120131: I tensorflow/core/common_runtime/gpu/gpu_device.cc:1423] Adding visible gpu devices: 0\n",
            "2018-05-07 14:31:21.120212: I tensorflow/core/common_runtime/gpu/gpu_device.cc:911] Device interconnect StreamExecutor with strength 1 edge matrix:\n",
            "2018-05-07 14:31:21.120244: I tensorflow/core/common_runtime/gpu/gpu_device.cc:917]      0 \n",
            "2018-05-07 14:31:21.120270: I tensorflow/core/common_runtime/gpu/gpu_device.cc:930] 0:   N \n",
            "2018-05-07 14:31:21.120469: I tensorflow/core/common_runtime/gpu/gpu_device.cc:1041] Created TensorFlow device (/job:localhost/replica:0/task:0/device:GPU:0 with 10765 MB memory) -> physical GPU (device: 0, name: Tesla K80, pci bus id: 0000:00:04.0, compute capability: 3.7)\n",
            "2018-05-07 14:31:25.547467: precision @ 1 = 0.653\n",
            "2018-05-07 14:31:36.046296: step 1400, loss = 1.42 (193.6 examples/sec; 0.661 sec/batch)\n"
          ],
          "name": "stdout"
        },
        {
          "output_type": "stream",
          "text": [
            "2018-05-07 14:33:09.022856: I tensorflow/core/common_runtime/gpu/gpu_device.cc:1423] Adding visible gpu devices: 0\r\n",
            "2018-05-07 14:33:09.022968: I tensorflow/core/common_runtime/gpu/gpu_device.cc:911] Device interconnect StreamExecutor with strength 1 edge matrix:\r\n",
            "2018-05-07 14:33:09.023001: I tensorflow/core/common_runtime/gpu/gpu_device.cc:917]      0 \r\n",
            "2018-05-07 14:33:09.023032: I tensorflow/core/common_runtime/gpu/gpu_device.cc:930] 0:   N \r\n",
            "2018-05-07 14:33:09.023191: I tensorflow/core/common_runtime/gpu/gpu_device.cc:1041] Created TensorFlow device (/job:localhost/replica:0/task:0/device:GPU:0 with 10765 MB memory) -> physical GPU (device: 0, name: Tesla K80, pci bus id: 0000:00:04.0, compute capability: 3.7)\n",
            "2018-05-07 14:33:18.439409: precision @ 1 = 0.675\n",
            "2018-05-07 14:33:29.150153: step 1500, loss = 1.46 (118.4 examples/sec; 1.081 sec/batch)\n",
            "2018-05-07 14:36:31.085749: I tensorflow/core/common_runtime/gpu/gpu_device.cc:1423] Adding visible gpu devices: 0\n",
            "2018-05-07 14:36:31.085880: I tensorflow/core/common_runtime/gpu/gpu_device.cc:911] Device interconnect StreamExecutor with strength 1 edge matrix:\n",
            "2018-05-07 14:36:31.085906: I tensorflow/core/common_runtime/gpu/gpu_device.cc:917]      0 \n",
            "2018-05-07 14:36:31.085923: I tensorflow/core/common_runtime/gpu/gpu_device.cc:930] 0:   N \n",
            "2018-05-07 14:36:31.086178: I tensorflow/core/common_runtime/gpu/gpu_device.cc:1041] Created TensorFlow device (/job:localhost/replica:0/task:0/device:GPU:0 with 10765 MB memory) -> physical GPU (device: 0, name: Tesla K80, pci bus id: 0000:00:04.0, compute capability: 3.7)\n",
            "2018-05-07 14:36:39.169644: precision @ 1 = 0.681\n",
            "2018-05-07 14:36:49.659183: step 1600, loss = 1.41 (63.5 examples/sec; 2.015 sec/batch)\n",
            "2018-05-07 14:37:41.160604: I tensorflow/core/common_runtime/gpu/gpu_device.cc:1423] Adding visible gpu devices: 0\n",
            "2018-05-07 14:37:41.160722: I tensorflow/core/common_runtime/gpu/gpu_device.cc:911] Device interconnect StreamExecutor with strength 1 edge matrix:\n",
            "2018-05-07 14:37:41.160747: I tensorflow/core/common_runtime/gpu/gpu_device.cc:917]      0 \n",
            "2018-05-07 14:37:41.160764: I tensorflow/core/common_runtime/gpu/gpu_device.cc:930] 0:   N \n",
            "2018-05-07 14:37:41.160989: I tensorflow/core/common_runtime/gpu/gpu_device.cc:1041] Created TensorFlow device (/job:localhost/replica:0/task:0/device:GPU:0 with 10765 MB memory) -> physical GPU (device: 0, name: Tesla K80, pci bus id: 0000:00:04.0, compute capability: 3.7)\n",
            "2018-05-07 14:37:48.865980: precision @ 1 = 0.681\n",
            "2018-05-07 14:37:59.389092: step 1700, loss = 1.10 (181.3 examples/sec; 0.706 sec/batch)\n",
            "2018-05-07 14:38:49.338147: I tensorflow/core/common_runtime/gpu/gpu_device.cc:1423] Adding visible gpu devices: 0\n",
            "2018-05-07 14:38:49.338228: I tensorflow/core/common_runtime/gpu/gpu_device.cc:911] Device interconnect StreamExecutor with strength 1 edge matrix:\n",
            "2018-05-07 14:38:49.338261: I tensorflow/core/common_runtime/gpu/gpu_device.cc:917]      0 \n",
            "2018-05-07 14:38:49.338287: I tensorflow/core/common_runtime/gpu/gpu_device.cc:930] 0:   N \n",
            "2018-05-07 14:38:49.338460: I tensorflow/core/common_runtime/gpu/gpu_device.cc:1041] Created TensorFlow device (/job:localhost/replica:0/task:0/device:GPU:0 with 10765 MB memory) -> physical GPU (device: 0, name: Tesla K80, pci bus id: 0000:00:04.0, compute capability: 3.7)\n",
            "2018-05-07 14:38:56.928618: precision @ 1 = 0.691\n",
            "2018-05-07 14:39:07.905634: step 1800, loss = 1.69 (188.0 examples/sec; 0.681 sec/batch)\n",
            "2018-05-07 14:39:55.064455: I tensorflow/core/common_runtime/gpu/gpu_device.cc:1423] Adding visible gpu devices: 0\n",
            "2018-05-07 14:39:55.064598: I tensorflow/core/common_runtime/gpu/gpu_device.cc:911] Device interconnect StreamExecutor with strength 1 edge matrix:\n",
            "2018-05-07 14:39:55.064625: I tensorflow/core/common_runtime/gpu/gpu_device.cc:917]      0 \n",
            "2018-05-07 14:39:55.064642: I tensorflow/core/common_runtime/gpu/gpu_device.cc:930] 0:   N \n",
            "2018-05-07 14:39:55.064882: I tensorflow/core/common_runtime/gpu/gpu_device.cc:1041] Created TensorFlow device (/job:localhost/replica:0/task:0/device:GPU:0 with 10765 MB memory) -> physical GPU (device: 0, name: Tesla K80, pci bus id: 0000:00:04.0, compute capability: 3.7)\n",
            "2018-05-07 14:40:02.140376: precision @ 1 = 0.700\n",
            "2018-05-07 14:40:12.669984: step 1900, loss = 1.33 (194.7 examples/sec; 0.658 sec/batch)\n",
            "2018-05-07 14:41:01.134812: I tensorflow/core/common_runtime/gpu/gpu_device.cc:1423] Adding visible gpu devices: 0\n",
            "2018-05-07 14:41:01.134926: I tensorflow/core/common_runtime/gpu/gpu_device.cc:911] Device interconnect StreamExecutor with strength 1 edge matrix:\n",
            "2018-05-07 14:41:01.134951: I tensorflow/core/common_runtime/gpu/gpu_device.cc:917]      0 \n",
            "2018-05-07 14:41:01.134967: I tensorflow/core/common_runtime/gpu/gpu_device.cc:930] 0:   N \n",
            "2018-05-07 14:41:01.135209: I tensorflow/core/common_runtime/gpu/gpu_device.cc:1041] Created TensorFlow device (/job:localhost/replica:0/task:0/device:GPU:0 with 10765 MB memory) -> physical GPU (device: 0, name: Tesla K80, pci bus id: 0000:00:04.0, compute capability: 3.7)\n",
            "2018-05-07 14:41:09.400725: precision @ 1 = 0.706\n",
            "2018-05-07 14:41:19.880401: step 2000, loss = 1.20 (193.7 examples/sec; 0.661 sec/batch)\n",
            "2018-05-07 14:42:08.309830: I tensorflow/core/common_runtime/gpu/gpu_device.cc:1423] Adding visible gpu devices: 0\n",
            "2018-05-07 14:42:08.309960: I tensorflow/core/common_runtime/gpu/gpu_device.cc:911] Device interconnect StreamExecutor with strength 1 edge matrix:\n",
            "2018-05-07 14:42:08.309984: I tensorflow/core/common_runtime/gpu/gpu_device.cc:917]      0 \n",
            "2018-05-07 14:42:08.310000: I tensorflow/core/common_runtime/gpu/gpu_device.cc:930] 0:   N \n",
            "2018-05-07 14:42:08.310263: I tensorflow/core/common_runtime/gpu/gpu_device.cc:1041] Created TensorFlow device (/job:localhost/replica:0/task:0/device:GPU:0 with 10765 MB memory) -> physical GPU (device: 0, name: Tesla K80, pci bus id: 0000:00:04.0, compute capability: 3.7)\n",
            "2018-05-07 14:42:14.740289: precision @ 1 = 0.717\n",
            "2018-05-07 14:42:25.196990: step 2100, loss = 1.41 (190.5 examples/sec; 0.672 sec/batch)\n",
            "2018-05-07 14:43:15.891858: I tensorflow/core/common_runtime/gpu/gpu_device.cc:1423] Adding visible gpu devices: 0\n",
            "2018-05-07 14:43:15.891941: I tensorflow/core/common_runtime/gpu/gpu_device.cc:911] Device interconnect StreamExecutor with strength 1 edge matrix:\n",
            "2018-05-07 14:43:15.891975: I tensorflow/core/common_runtime/gpu/gpu_device.cc:917]      0 \n",
            "2018-05-07 14:43:15.892008: I tensorflow/core/common_runtime/gpu/gpu_device.cc:930] 0:   N \n",
            "2018-05-07 14:43:15.892214: I tensorflow/core/common_runtime/gpu/gpu_device.cc:1041] Created TensorFlow device (/job:localhost/replica:0/task:0/device:GPU:0 with 10765 MB memory) -> physical GPU (device: 0, name: Tesla K80, pci bus id: 0000:00:04.0, compute capability: 3.7)\n",
            "2018-05-07 14:43:25.411290: precision @ 1 = 0.724\n",
            "2018-05-07 14:43:36.134682: step 2200, loss = 1.13 (189.3 examples/sec; 0.676 sec/batch)\n",
            "2018-05-07 14:45:14.831264: I tensorflow/core/common_runtime/gpu/gpu_device.cc:1423] Adding visible gpu devices: 0\n",
            "2018-05-07 14:45:14.831384: I tensorflow/core/common_runtime/gpu/gpu_device.cc:911] Device interconnect StreamExecutor with strength 1 edge matrix:\n",
            "2018-05-07 14:45:14.831409: I tensorflow/core/common_runtime/gpu/gpu_device.cc:917]      0 \n",
            "2018-05-07 14:45:14.831425: I tensorflow/core/common_runtime/gpu/gpu_device.cc:930] 0:   N \n",
            "2018-05-07 14:45:14.832452: I tensorflow/core/common_runtime/gpu/gpu_device.cc:1041] Created TensorFlow device (/job:localhost/replica:0/task:0/device:GPU:0 with 10765 MB memory) -> physical GPU (device: 0, name: Tesla K80, pci bus id: 0000:00:04.0, compute capability: 3.7)\n"
          ],
          "name": "stdout"
        },
        {
          "output_type": "stream",
          "text": [
            "2018-05-07 14:45:20.550057: precision @ 1 = 0.730\n",
            "2018-05-07 14:45:30.973748: step 2300, loss = 1.21 (107.8 examples/sec; 1.187 sec/batch)\n",
            "2018-05-07 14:46:20.287788: I tensorflow/core/common_runtime/gpu/gpu_device.cc:1423] Adding visible gpu devices: 0\n",
            "2018-05-07 14:46:20.287905: I tensorflow/core/common_runtime/gpu/gpu_device.cc:911] Device interconnect StreamExecutor with strength 1 edge matrix:\n",
            "2018-05-07 14:46:20.287930: I tensorflow/core/common_runtime/gpu/gpu_device.cc:917]      0 \n",
            "2018-05-07 14:46:20.287946: I tensorflow/core/common_runtime/gpu/gpu_device.cc:930] 0:   N \n",
            "2018-05-07 14:46:20.288179: I tensorflow/core/common_runtime/gpu/gpu_device.cc:1041] Created TensorFlow device (/job:localhost/replica:0/task:0/device:GPU:0 with 10765 MB memory) -> physical GPU (device: 0, name: Tesla K80, pci bus id: 0000:00:04.0, compute capability: 3.7)\n",
            "2018-05-07 14:46:30.243119: precision @ 1 = 0.735\n",
            "2018-05-07 14:46:40.798539: step 2400, loss = 1.17 (195.3 examples/sec; 0.655 sec/batch)\n"
          ],
          "name": "stdout"
        }
      ]
    },
    {
      "metadata": {
        "id": "b0OBj7oMuf6b",
        "colab_type": "code",
        "colab": {
          "autoexec": {
            "startup": false,
            "wait_interval": 0
          },
          "base_uri": "https://localhost:8080/",
          "height": 85
        },
        "outputId": "4546904d-afdb-41e5-8396-83bc234806b7",
        "executionInfo": {
          "status": "ok",
          "timestamp": 1525641896589,
          "user_tz": 240,
          "elapsed": 2319,
          "user": {
            "displayName": "Matthew Bitter",
            "photoUrl": "//lh5.googleusercontent.com/-pHznAJG5AMw/AAAAAAAAAAI/AAAAAAAAF-I/fAx6BjxWO-U/s50-c-k-no/photo.jpg",
            "userId": "114546839242135822590"
          }
        }
      },
      "cell_type": "code",
      "source": [
        "!ls"
      ],
      "execution_count": 66,
      "outputs": [
        {
          "output_type": "stream",
          "text": [
            "BUILD\t\t  cifar10_input_test.py       drive\t   README.md\r\n",
            "bundle.py\t  cifar10_multi_gpu_train.py  __init__.py\r\n",
            "cifar10_eval.py   cifar10.py\t\t      notes.txt\r\n",
            "cifar10_input.py  cifar10_train.py\t      __pycache__\r\n"
          ],
          "name": "stdout"
        }
      ]
    }
  ]
}